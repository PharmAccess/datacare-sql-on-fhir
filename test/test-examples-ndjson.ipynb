{
 "cells": [
  {
   "cell_type": "code",
   "execution_count": 3,
   "metadata": {},
   "outputs": [],
   "source": [
    "from pathlib import Path\n",
    "import duckdb\n",
    "\n",
    "\n",
    "# ndjson test data from\n",
    "# https://www.hl7.org/fhir/examples-ndjson.zip\n",
    "# NOTE: Binary.ndjson and Group.ndjson\n",
    "# should be renamed (e.g. Binary_, Group_) as these are SQL keywords\n",
    "EXAMPLES = Path('./input-data/examples')\n",
    "EXAMPLES_PARQUET = Path(\"./output/examples-parquet/\")\n",
    "EXAMPLES_DB = Path(\"./output/examples.duckdb\")\n"
   ]
  },
  {
   "cell_type": "code",
   "execution_count": 4,
   "metadata": {},
   "outputs": [],
   "source": [
    "# ingest synthea data, storing intermedia parquets as well\n",
    "with duckdb.connect((EXAMPLES_DB).as_posix()) as conn:\n",
    "    for file_ in EXAMPLES.glob(\"*.ndjson\"):\n",
    "        duckdb.read_json(file_.as_posix()).to_parquet((EXAMPLES_PARQUET / f\"{file_.stem}.parquet\").as_posix())\n",
    "    for file_ in EXAMPLES_PARQUET.glob(\"*.parquet\"):\n",
    "        stmt = f\"\"\"\n",
    "            DROP TABLE IF EXISTS {file_.stem};\n",
    "            CREATE TABLE {file_.stem} AS SELECT * FROM '{file_.as_posix()}'\n",
    "            \"\"\"\n",
    "        conn.execute(stmt)"
   ]
  },
  {
   "cell_type": "code",
   "execution_count": 6,
   "metadata": {},
   "outputs": [],
   "source": [
    "# read-only\n",
    "conn = duckdb.connect(database=EXAMPLES_DB.as_posix(), read_only=True)\n",
    "conn.close()"
   ]
  },
  {
   "cell_type": "code",
   "execution_count": 7,
   "metadata": {},
   "outputs": [
    {
     "ename": "NameError",
     "evalue": "name 'DATA' is not defined",
     "output_type": "error",
     "traceback": [
      "\u001b[0;31m---------------------------------------------------------------------------\u001b[0m",
      "\u001b[0;31mNameError\u001b[0m                                 Traceback (most recent call last)",
      "Cell \u001b[0;32mIn[7], line 3\u001b[0m\n\u001b[1;32m      1\u001b[0m \u001b[39m# same test, with our own data\u001b[39;00m\n\u001b[1;32m      2\u001b[0m \u001b[39m# TO DO: fails, because schema not inferred properly\u001b[39;00m\n\u001b[0;32m----> 3\u001b[0m \u001b[39mfor\u001b[39;00m file_ \u001b[39min\u001b[39;00m DATA\u001b[39m.\u001b[39mglob(\u001b[39m\"\u001b[39m\u001b[39mintermediate/*.ndjson\u001b[39m\u001b[39m\"\u001b[39m):\n\u001b[1;32m      4\u001b[0m     duckdb\u001b[39m.\u001b[39mread_json(file_\u001b[39m.\u001b[39mas_posix())\u001b[39m.\u001b[39mto_parquet((DATA \u001b[39m/\u001b[39m \u001b[39m\"\u001b[39m\u001b[39mfinal\u001b[39m\u001b[39m\"\u001b[39m \u001b[39m/\u001b[39m \u001b[39mf\u001b[39m\u001b[39m\"\u001b[39m\u001b[39m{\u001b[39;00mfile_\u001b[39m.\u001b[39mstem\u001b[39m}\u001b[39;00m\u001b[39m.parquet\u001b[39m\u001b[39m\"\u001b[39m)\u001b[39m.\u001b[39mas_posix())\n",
      "\u001b[0;31mNameError\u001b[0m: name 'DATA' is not defined"
     ]
    }
   ],
   "source": [
    "# same test, with our own data\n",
    "# TO DO: fails, because schema not inferred properly\n",
    "for file_ in DATA.glob(\"intermediate/*.ndjson\"):\n",
    "    duckdb.read_json(file_.as_posix()).to_parquet((DATA / \"final\" / f\"{file_.stem}.parquet\").as_posix())"
   ]
  },
  {
   "cell_type": "markdown",
   "metadata": {},
   "source": []
  },
  {
   "cell_type": "code",
   "execution_count": null,
   "metadata": {},
   "outputs": [],
   "source": []
  }
 ],
 "metadata": {
  "kernelspec": {
   "display_name": ".venv",
   "language": "python",
   "name": "python3"
  },
  "language_info": {
   "codemirror_mode": {
    "name": "ipython",
    "version": 3
   },
   "file_extension": ".py",
   "mimetype": "text/x-python",
   "name": "python",
   "nbconvert_exporter": "python",
   "pygments_lexer": "ipython3",
   "version": "3.9.13"
  },
  "orig_nbformat": 4
 },
 "nbformat": 4,
 "nbformat_minor": 2
}
